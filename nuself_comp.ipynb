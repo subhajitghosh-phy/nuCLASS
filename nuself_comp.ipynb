{
 "cells": [
  {
   "cell_type": "code",
   "execution_count": 1,
   "id": "0fefd0f4-4e7e-4979-b44e-e46468ea5064",
   "metadata": {},
   "outputs": [],
   "source": [
    "import os\n",
    "os.environ[\"OMP_NUM_THREADS\"] = \"1\" # Why the fuck this does not work with more cores?????!!!\n",
    "%matplotlib inline\n",
    "import matplotlib\n",
    "import matplotlib.pyplot as plt\n",
    "import numpy as np\n",
    "import sys\n",
    "from math import pi\n",
    "import time\n",
    "plt.rcParams.update({\n",
    "    \"text.usetex\": True\n",
    "})\n",
    "plt.rcParams['figure.dpi'] = 200\n",
    "def mgrid(plt):\n",
    "        plt.grid(linestyle='-', which='major', linewidth=0.5 , color='grey', alpha = 0.2)\n",
    "        plt.grid(linestyle=':', which='minor', linewidth=0.5 , color='grey', alpha = 0.2)"
   ]
  },
  {
   "cell_type": "code",
   "execution_count": 2,
   "id": "6169210b-10d3-4b62-b03b-195f3e5f6dd4",
   "metadata": {},
   "outputs": [],
   "source": [
    "# If you need to work with seperate instances of CLASS\n",
    "\n",
    "class_path = '/Users/sg58477/work/class_public/' # Path to your CLASS directory\n",
    "# class_path = '/afs/crc.nd.edu/user/s/sghosh5/class_public' # Path to your CLASS directory\n",
    "# class_path = '/afs/crc.nd.edu/user/s/sghosh5/scalar_cmb/AxiCLASS-32fd3df633be78c8f1c036de25b935d618ae1a59'\n",
    "classy_path = ''\n",
    "for elem in os.listdir(os.path.join(\n",
    "        class_path, \"python\", \"build\")):\n",
    "    if elem.find(\"lib.\") != -1:\n",
    "        classy_path = os.path.join(\n",
    "            class_path, \"python\", \"build\", elem)\n",
    "    if len(classy_path)==1:\n",
    "        classy_path = classy_path[0]\n",
    "    else:\n",
    "        stringcheck = \"%i.%i\"%(sys.version_info.major,sys.version_info.minor)\n",
    "        for path in classy_path:\n",
    "            if stringcheck in path:\n",
    "                classy_path = path\n",
    "                break\n",
    "\n",
    "# Inserting the previously found path into the list of folders to\n",
    "# search for python modules.\n",
    "sys.path.insert(1, classy_path)\n",
    "try:\n",
    "    from classy import Class\n",
    "    from classy import CosmoComputationError\n",
    "except ImportError:\n",
    "    print('Error: Could not import Classy.')\n",
    "\n",
    "    \n",
    "M = Class()\n",
    "sys.path.remove(classy_path)\n",
    "del Class\n",
    "del sys.modules['classy']"
   ]
  },
  {
   "cell_type": "code",
   "execution_count": 3,
   "id": "9c56c6af-0e25-4307-8982-a9c9efcb380f",
   "metadata": {},
   "outputs": [],
   "source": [
    "common_settings = {\n",
    "                   'output': 'tCl,pCl,lCl,mPk',\n",
    "                   'h':0.67556,\n",
    "                   'omega_b':0.02238280,   \n",
    "                   'omega_cdm':0.1201075,  \n",
    "                   'A_s':2.215e-9,\n",
    "                   'n_s':0.9619,\n",
    "                   'tau_reio':0.05430842,\n",
    "                   'YHe':'BBN',\n",
    "                   'l_max_scalars':6000,\n",
    "                   'k_output_values': '1, 0.1, 0.01, 0.001',\n",
    "#                    'z_max_pk':100,\n",
    "                   'P_k_max_1/Mpc':1200.0,\n",
    "                    'gauge':'sync',\n",
    "                    'lensing':'yes'\n",
    "                    # ,'N_ur' : 0,\n",
    "                    # 'N_ncdm' : 1,\n",
    "                    # 'm_ncdm' : 0.02,\n",
    "                    # 'deg_ncdm' : 3\n",
    "}"
   ]
  },
  {
   "cell_type": "code",
   "execution_count": 4,
   "id": "fc2604d3-17d8-4bb1-9b15-84d98cf40ecd",
   "metadata": {},
   "outputs": [],
   "source": [
    "klist = np.logspace(-4,np.log10(common_settings['P_k_max_1/Mpc']),1000)"
   ]
  },
  {
   "cell_type": "code",
   "execution_count": 5,
   "id": "1404de3c-8984-40d3-b302-6eb49295d380",
   "metadata": {},
   "outputs": [],
   "source": [
    "def cl_pk(Nur = 0, m_ncdm = 0.02, log10_G_eff = None, N_ncdm = 1, deg_ncdm = 3, Omega0_m = 0.3136284):\n",
    "    M.empty()\n",
    "    M.set(common_settings) \n",
    "    M.set({'N_ur' : Nur, 'N_ncdm' : N_ncdm, 'deg_ncdm':deg_ncdm, 'm_ncdm':m_ncdm})\n",
    "    M.compute()\n",
    "    om0_cdm_adj = Omega0_m*M.h()**2 - M.omega_b() - M.Omega_nu*M.h()**2\n",
    "    M.empty()\n",
    "    M.set(common_settings)\n",
    "    M.set({'omega_cdm':om0_cdm_adj})\n",
    "    M.set({'N_ur' : Nur, 'N_ncdm' : N_ncdm, 'deg_ncdm':deg_ncdm, 'm_ncdm':m_ncdm})\n",
    "    # M.set({\"ncdm_nuself_fluid_trigger_tau_c_over_tau_h\":1.0e-8})\n",
    "    # M.set({\"ncdm_nuself_trigger_tau_c_over_tau_h\":1.0e3})\n",
    "    # M.set({'tol_perturbations_integration':5e-5})\n",
    "    M.set({'ncdm_nuself_fluid_trigger_tau_c_over_tau' : 1e5})\n",
    "    if log10_G_eff != None:\n",
    "        M.set({'log10_G_eff' : log10_G_eff,'nuself_type' : 'massive'})\n",
    "    M.compute()\n",
    "    nucl = M.lensed_cl()\n",
    "    nucl_raw = M.raw_cl()\n",
    "    pnu = []\n",
    "    for k in klist:\n",
    "        pnu.append(M.pk(k,0))\n",
    "    pnu = np.array(pnu)\n",
    "    print(M.Omega0_m())\n",
    "    return [nucl,nucl_raw,pnu]\n",
    "    \n",
    "    \n",
    "        \n",
    "    \n",
    "    \n",
    "    \n"
   ]
  },
  {
   "cell_type": "code",
   "execution_count": 6,
   "id": "3d4b3b9b-6c38-42f5-89e2-7207a14fbd70",
   "metadata": {},
   "outputs": [],
   "source": [
    "fac = np.sqrt(1) # To benchmark with Vivian's code\n",
    "# mlist = [0.06/3]\n",
    "mlist = [0.06/3,0.23/3]\n",
    "lgefflist  = [None,-2.0+np.log10(fac),-4.0+np.log10(fac)]\n",
    "# lgefflist  = [None,-4.0+np.log10(fac),-6.0+np.log10(fac)]\n",
    "# lgefflist  = [None,-4.0+np.log10(fac)]\n",
    "cll = ['k','deepskyblue', 'r']\n",
    "lsl = ['-','--']"
   ]
  },
  {
   "cell_type": "code",
   "execution_count": null,
   "id": "6eb48496-0c2d-4462-b7e4-dd9115b04879",
   "metadata": {},
   "outputs": [],
   "source": [
    "cl = {}\n",
    "pk = {}\n",
    "cl_raw = {}\n",
    "for lin,lgeff in enumerate(lgefflist):\n",
    "    for min,m in enumerate(mlist):\n",
    "        clpk = cl_pk(m_ncdm = m, log10_G_eff = lgeff);\n",
    "        cl[lin,min] = clpk[0]\n",
    "        cl_raw[lin,min] = clpk[1]\n",
    "        pk[lin,min] = clpk[2]\n",
    "        "
   ]
  },
  {
   "cell_type": "code",
   "execution_count": null,
   "id": "25f61885-b5a6-4afe-8221-10c66bd2b359",
   "metadata": {},
   "outputs": [],
   "source": [
    "for lin,lgeff in enumerate(lgefflist):\n",
    "    for mind,m in enumerate(mlist):\n",
    "        plt.plot(cl[lin,mind]['ell'][2:],cl[lin,mind]['pp'][2:]*cl[lin,mind]['ell'][2:]*(cl[lin,mind]['ell'][2:]+1)/2/np.pi, label = fr'$m_\\nu = {round(3*m,2)}{{\\rm eV}},\\log_{{10}} G_{{\\rm eff}} = 10^{{{lgeff}}}$', c = cll[lin],ls = lsl[mind], lw = 0.6)\n",
    "plt.xscale('log')\n",
    "plt.legend()\n",
    "plt.yscale('log')"
   ]
  },
  {
   "cell_type": "code",
   "execution_count": null,
   "id": "65ed8e17-fd6f-4b17-84f7-c1bb91d4f89e",
   "metadata": {},
   "outputs": [],
   "source": [
    "for lin,lgeff in enumerate(lgefflist):\n",
    "    for mind,m in enumerate(mlist):\n",
    "        plt.plot(cl[lin,mind]['ell'][2:],cl[lin,mind]['tt'][2:]/cl[0,0]['tt'][2:] - 1, label = fr'$m_\\nu = {round(3*m,2)}{{\\rm eV}},\\log_{{10}} G_{{\\rm eff}} = 10^{{{lgeff}}}$', c = cll[lin],ls = lsl[mind], lw = 0.6)\n",
    "plt.xlim([2,3000]) \n",
    "# plt.ylim([-0.08,0.12])\n",
    "mgrid(plt)\n",
    "# plt.yticks([-0.06,-0.02,0.02,0.06,0.1])\n",
    "plt.legend()\n",
    "plt.title('$C_\\ell^{TT}$(lensed)')\n",
    "plt.savefig('cl_TT_r.pdf')\n"
   ]
  },
  {
   "cell_type": "code",
   "execution_count": null,
   "id": "8ddc35b6-8b9d-4c03-ab07-a6196744279d",
   "metadata": {},
   "outputs": [],
   "source": [
    "for lin,lgeff in enumerate(lgefflist):\n",
    "    for mind,m in enumerate(mlist):\n",
    "        plt.plot(cl_raw[lin,mind]['ell'][2:],cl_raw[lin,mind]['tt'][2:]/cl_raw[0,0]['tt'][2:] - 1, label = fr'$m_\\nu = {round(3*m,2)}{{\\rm eV}},\\log_{{10}} G_{{\\rm eff}} = 10^{{{lgeff}}}$', c = cll[lin],ls = lsl[mind], lw = 0.6)\n",
    "plt.xlim([2,3000]) \n",
    "# plt.ylim([-0.08,0.12])\n",
    "mgrid(plt)\n",
    "plt.title('$C_\\ell^{TT}$(un-lensed)')\n",
    "# plt.yticks([-0.06,-0.02,0.02,0.06,0.1])\n",
    "plt.legend()"
   ]
  },
  {
   "cell_type": "code",
   "execution_count": null,
   "id": "2f961799-7a30-4ce0-9365-61c646453644",
   "metadata": {},
   "outputs": [],
   "source": [
    "for lin,lgeff in enumerate(lgefflist):\n",
    "    for mind,m in enumerate(mlist):\n",
    "        plt.plot(cl_raw[lin,mind]['ell'][2:],cl_raw[lin,mind]['tt'][2:]/cl_raw[0,0]['tt'][2:] - 1, label = fr'$m_\\nu = {round(3*m,2)}{{\\rm eV}},\\log_{{10}} G_{{\\rm eff}} = 10^{{{lgeff}}}$', c = cll[lin],ls = lsl[mind], lw = 0.6)\n",
    "plt.xlim([2,3000]) \n",
    "plt.ylim([-0.08,0.12])\n",
    "mgrid(plt)\n",
    "plt.title('$C_\\ell^{TT}$(un-lensed)')\n",
    "plt.yticks([-0.06,-0.02,0.02,0.06,0.1])\n",
    "plt.legend()"
   ]
  },
  {
   "cell_type": "code",
   "execution_count": null,
   "id": "a06376e8-a4e2-40d8-966e-6c598ba8065b",
   "metadata": {},
   "outputs": [],
   "source": [
    "for lin,lgeff in enumerate(lgefflist):\n",
    "    for mind,m in enumerate(mlist):\n",
    "        plt.plot(cl[lin,mind]['ell'][2:],cl[lin,mind]['ee'][2:]/cl[0,0]['ee'][2:] - 1, label = fr'$m_\\nu = {round(3*m,2)}{{\\rm eV}},\\log_{{10}} G_{{\\rm eff}} = 10^{{{lgeff}}}$', c = cll[lin],ls = lsl[mind], lw = 0.6)\n",
    "plt.xlim([2,3000]) \n",
    "# plt.ylim([-0.2,0.3])\n",
    "plt.title('$C_\\ell^{EE}$(lensed)')\n",
    "mgrid(plt)\n",
    "# plt.yticks([-0.06,-0.02,0.02,0.06,0.1])\n",
    "plt.legend()\n",
    "plt.savefig('cl_EE_r.pdf')"
   ]
  },
  {
   "cell_type": "code",
   "execution_count": null,
   "id": "e084c9b6-4a8e-4d27-973b-e84029de58f2",
   "metadata": {},
   "outputs": [],
   "source": [
    "for lin,lgeff in enumerate(lgefflist):\n",
    "    for mind,m in enumerate(mlist):\n",
    "        plt.plot(cl_raw[lin,mind]['ell'][2:],cl_raw[lin,mind]['ee'][2:]/cl_raw[0,0]['ee'][2:] - 1, label = fr'$m_\\nu = {round(3*m,2)}{{\\rm eV}},\\log_{{10}} G_{{\\rm eff}} = 10^{{{lgeff}}}$', c = cll[lin],ls = lsl[mind], lw = 0.6)\n",
    "# plt.xlim([2,3000]) \n",
    "# plt.ylim([-0.2,0.3])\n",
    "plt.title('$C_\\ell^{EE}$(un-lensed)')\n",
    "mgrid(plt)\n",
    "# plt.yticks([-0.06,-0.02,0.02,0.06,0.1])\n",
    "plt.legend()"
   ]
  },
  {
   "cell_type": "code",
   "execution_count": null,
   "id": "4f60171d-78a5-456b-a45f-7c0f15d7da9a",
   "metadata": {},
   "outputs": [],
   "source": [
    "for lin,lgeff in enumerate(lgefflist):\n",
    "    for mind,m in enumerate(mlist):\n",
    "        plt.plot(klist,pk[lin,mind]/pk[0,0], label = fr'$m_\\nu = {round(3*m,2)}{{\\rm eV}},\\log_{{10}} G_{{\\rm eff}} = 10^{{{lgeff}}}$', c = cll[lin],ls = lsl[mind] ,lw = 0.6)\n",
    "plt.xscale('log')\n",
    "plt.xlim([1e-4,1e2])\n",
    "plt.legend()\n",
    "mgrid(plt)\n",
    "plt.savefig('Pk.pdf')\n",
    "# plt.ylim([-0.08,0.14])"
   ]
  },
  {
   "cell_type": "code",
   "execution_count": null,
   "id": "dd7e6448-1ee5-44fd-a019-fb91a1e0b780",
   "metadata": {},
   "outputs": [],
   "source": [
    "# cl_pk(m_ncdm = 0.02)[1]/pk[0,0]"
   ]
  },
  {
   "cell_type": "code",
   "execution_count": null,
   "id": "6405b2e3-a4c5-4a2a-a125-ddf87f7d2074",
   "metadata": {},
   "outputs": [],
   "source": [
    "# cl_pk(m_ncdm = 0.1)[1]/pk[0,0]"
   ]
  },
  {
   "cell_type": "code",
   "execution_count": null,
   "id": "60c89c83-4d8a-48ff-a17b-11bd86ab0957",
   "metadata": {},
   "outputs": [],
   "source": [
    "#1200"
   ]
  }
 ],
 "metadata": {
  "kernelspec": {
   "display_name": "Python 3 (ipykernel)",
   "language": "python",
   "name": "python3"
  },
  "language_info": {
   "codemirror_mode": {
    "name": "ipython",
    "version": 3
   },
   "file_extension": ".py",
   "mimetype": "text/x-python",
   "name": "python",
   "nbconvert_exporter": "python",
   "pygments_lexer": "ipython3",
   "version": "3.10.13"
  }
 },
 "nbformat": 4,
 "nbformat_minor": 5
}
